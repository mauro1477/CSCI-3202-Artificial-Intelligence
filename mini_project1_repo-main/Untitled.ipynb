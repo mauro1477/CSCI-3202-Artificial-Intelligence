{
 "cells": [
  {
   "cell_type": "code",
   "execution_count": 2,
   "metadata": {},
   "outputs": [
    {
     "name": "stdout",
     "output_type": "stream",
     "text": [
      "[500, 200]\n"
     ]
    }
   ],
   "source": [
    "import random \n",
    "  \n",
    "  \n",
    "sampleList = [100, 200, 300, 400, 500] \n",
    "  \n",
    "randomList = random.choices( \n",
    "  sampleList, weights=(10, 20, 30, 40, 50), k=2) \n",
    "  \n",
    "print(randomList) "
   ]
  },
  {
   "cell_type": "code",
   "execution_count": 3,
   "metadata": {},
   "outputs": [
    {
     "name": "stdout",
     "output_type": "stream",
     "text": [
      "('apple', 'kiwi', 'cherry')\n"
     ]
    }
   ],
   "source": [
    "x = (\"apple\", \"banana\", \"cherry\")\n",
    "y = list(x)\n",
    "y[1] = \"kiwi\"\n",
    "x = tuple(y)\n",
    "\n",
    "print(x)"
   ]
  },
  {
   "cell_type": "code",
   "execution_count": 5,
   "metadata": {},
   "outputs": [
    {
     "data": {
      "text/plain": [
       "'apple'"
      ]
     },
     "execution_count": 5,
     "metadata": {},
     "output_type": "execute_result"
    }
   ],
   "source": [
    "fruits = ['apple', 'banana', 'cherry']\n",
    "\n",
    "fruits.pop(0)"
   ]
  },
  {
   "cell_type": "code",
   "execution_count": 9,
   "metadata": {},
   "outputs": [
    {
     "name": "stdout",
     "output_type": "stream",
     "text": [
      "The given list is as follows:\n",
      "[1, 2, 3, 4, 1, 1, 1, 4, 5]\n",
      "The index obtained for the given index number in the method:\n",
      "2\n",
      "The given string list is as follows:\n",
      "['bat', 'cat', 'mat', 'cat', 'pet']\n",
      "The index obtained for the given element value in the index method\n",
      "1\n"
     ]
    }
   ],
   "source": [
    "list1 = [1, 2, 3, 4, 1, 1, 1, 4, 5]\n",
    "print(\"The given list is as follows:\")\n",
    "print(list1)\n",
    "print(\"The index obtained for the given index number in the method:\")\n",
    "print(list1.index(3))\n",
    "list2 = ['bat', 'cat', 'mat', 'cat', 'pet'] \n",
    "print(\"The given string list is as follows:\")\n",
    "print(list2)\n",
    "print(\"The index obtained for the given element value in the index method\")\n",
    "print(list2.index('cat'))"
   ]
  },
  {
   "cell_type": "code",
   "execution_count": 16,
   "metadata": {},
   "outputs": [
    {
     "name": "stdout",
     "output_type": "stream",
     "text": [
      "[20, 10]\n"
     ]
    }
   ],
   "source": [
    "lst = [10, 20, 30, 40]\n",
    "weights_tup = (6, 7, 5, 0)\n",
    "e1_e2 = random.choices(lst, weights = weights_tup, k=2)\n",
    "\n",
    "print(e1_e2)"
   ]
  },
  {
   "cell_type": "code",
   "execution_count": 21,
   "metadata": {},
   "outputs": [
    {
     "name": "stdout",
     "output_type": "stream",
     "text": [
      "[991, 981, 1]\n"
     ]
    }
   ],
   "source": [
    "weights = (-10, -20, -1000)\n",
    "offset = min(weights)\n",
    "positiveweights = [z - offset + 1 for z in weights]\n",
    "\n",
    "print(positiveweights)"
   ]
  },
  {
   "cell_type": "code",
   "execution_count": null,
   "metadata": {},
   "outputs": [],
   "source": []
  }
 ],
 "metadata": {
  "kernelspec": {
   "display_name": "Python 3",
   "language": "python",
   "name": "python3"
  },
  "language_info": {
   "codemirror_mode": {
    "name": "ipython",
    "version": 3
   },
   "file_extension": ".py",
   "mimetype": "text/x-python",
   "name": "python",
   "nbconvert_exporter": "python",
   "pygments_lexer": "ipython3",
   "version": "3.8.5"
  }
 },
 "nbformat": 4,
 "nbformat_minor": 4
}
